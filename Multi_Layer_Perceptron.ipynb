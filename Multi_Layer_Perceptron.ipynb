{
  "nbformat": 4,
  "nbformat_minor": 0,
  "metadata": {
    "colab": {
      "provenance": [],
      "authorship_tag": "ABX9TyOAOGPa5cHdQBqVIOkpf+ho",
      "include_colab_link": true
    },
    "kernelspec": {
      "name": "python3",
      "display_name": "Python 3"
    },
    "language_info": {
      "name": "python"
    }
  },
  "cells": [
    {
      "cell_type": "markdown",
      "metadata": {
        "id": "view-in-github",
        "colab_type": "text"
      },
      "source": [
        "<a href=\"https://colab.research.google.com/github/daheeem/Artificial-Neural-Network/blob/main/Multi_Layer_Perceptron.ipynb\" target=\"_parent\"><img src=\"https://colab.research.google.com/assets/colab-badge.svg\" alt=\"Open In Colab\"/></a>"
      ]
    },
    {
      "cell_type": "markdown",
      "source": [
        "# Multi Layer Perceptron with Tensor Flow"
      ],
      "metadata": {
        "id": "jMTABFrgVosD"
      }
    },
    {
      "cell_type": "markdown",
      "source": [
        "# FORMULASI MASALAH\n",
        "\n",
        "The goal of the research is to help the auditors by building a classification model that can predict the fraudulent firm on the basis the present and historical risk factors. The information about the sectors and the counts of firms are listed respectively as Irrigation (114), Public Health (77), Buildings and Roads (82), Forest (70), Corporate (47), Animal Husbandry (95), Communication (1), Electrical (4), Land (5), Science and Technology (3), Tourism (1), Fisheries (41), Industries (37), Agriculture (200)."
      ],
      "metadata": {
        "id": "U93NMOuwVwe_"
      }
    },
    {
      "cell_type": "code",
      "execution_count": null,
      "metadata": {
        "id": "ucH-gimXGE1K"
      },
      "outputs": [],
      "source": [
        "import pandas as pd\n",
        "import numpy as np\n",
        "import matplotlib as mp\n",
        "import matplotlib.pyplot as plt\n",
        "import seaborn as sns\n",
        "from scipy import stats\n",
        "from sklearn.preprocessing import MinMaxScaler\n",
        "from sklearn import preprocessing, decomposition, model_selection, metrics, pipeline\n",
        "from sklearn.metrics import confusion_matrix, classification_report\n",
        "from sklearn.metrics import accuracy_score, precision_score, recall_score, f1_score"
      ]
    },
    {
      "cell_type": "markdown",
      "source": [
        "#Import Data"
      ],
      "metadata": {
        "id": "pycgLsp7VzKJ"
      }
    },
    {
      "cell_type": "code",
      "source": [
        "#Mengimport data dari file Trial.xlsx\n",
        "from google.colab import files\n",
        "TheFile = files.upload()"
      ],
      "metadata": {
        "colab": {
          "base_uri": "https://localhost:8080/",
          "height": 74
        },
        "id": "13--3a7EGJmW",
        "outputId": "bd04d316-ade8-4d14-f2eb-2e1041a1c053"
      },
      "execution_count": null,
      "outputs": [
        {
          "output_type": "display_data",
          "data": {
            "text/plain": [
              "<IPython.core.display.HTML object>"
            ],
            "text/html": [
              "\n",
              "     <input type=\"file\" id=\"files-47930a39-615a-43c7-8334-42f0677255fd\" name=\"files[]\" multiple disabled\n",
              "        style=\"border:none\" />\n",
              "     <output id=\"result-47930a39-615a-43c7-8334-42f0677255fd\">\n",
              "      Upload widget is only available when the cell has been executed in the\n",
              "      current browser session. Please rerun this cell to enable.\n",
              "      </output>\n",
              "      <script>// Copyright 2017 Google LLC\n",
              "//\n",
              "// Licensed under the Apache License, Version 2.0 (the \"License\");\n",
              "// you may not use this file except in compliance with the License.\n",
              "// You may obtain a copy of the License at\n",
              "//\n",
              "//      http://www.apache.org/licenses/LICENSE-2.0\n",
              "//\n",
              "// Unless required by applicable law or agreed to in writing, software\n",
              "// distributed under the License is distributed on an \"AS IS\" BASIS,\n",
              "// WITHOUT WARRANTIES OR CONDITIONS OF ANY KIND, either express or implied.\n",
              "// See the License for the specific language governing permissions and\n",
              "// limitations under the License.\n",
              "\n",
              "/**\n",
              " * @fileoverview Helpers for google.colab Python module.\n",
              " */\n",
              "(function(scope) {\n",
              "function span(text, styleAttributes = {}) {\n",
              "  const element = document.createElement('span');\n",
              "  element.textContent = text;\n",
              "  for (const key of Object.keys(styleAttributes)) {\n",
              "    element.style[key] = styleAttributes[key];\n",
              "  }\n",
              "  return element;\n",
              "}\n",
              "\n",
              "// Max number of bytes which will be uploaded at a time.\n",
              "const MAX_PAYLOAD_SIZE = 100 * 1024;\n",
              "\n",
              "function _uploadFiles(inputId, outputId) {\n",
              "  const steps = uploadFilesStep(inputId, outputId);\n",
              "  const outputElement = document.getElementById(outputId);\n",
              "  // Cache steps on the outputElement to make it available for the next call\n",
              "  // to uploadFilesContinue from Python.\n",
              "  outputElement.steps = steps;\n",
              "\n",
              "  return _uploadFilesContinue(outputId);\n",
              "}\n",
              "\n",
              "// This is roughly an async generator (not supported in the browser yet),\n",
              "// where there are multiple asynchronous steps and the Python side is going\n",
              "// to poll for completion of each step.\n",
              "// This uses a Promise to block the python side on completion of each step,\n",
              "// then passes the result of the previous step as the input to the next step.\n",
              "function _uploadFilesContinue(outputId) {\n",
              "  const outputElement = document.getElementById(outputId);\n",
              "  const steps = outputElement.steps;\n",
              "\n",
              "  const next = steps.next(outputElement.lastPromiseValue);\n",
              "  return Promise.resolve(next.value.promise).then((value) => {\n",
              "    // Cache the last promise value to make it available to the next\n",
              "    // step of the generator.\n",
              "    outputElement.lastPromiseValue = value;\n",
              "    return next.value.response;\n",
              "  });\n",
              "}\n",
              "\n",
              "/**\n",
              " * Generator function which is called between each async step of the upload\n",
              " * process.\n",
              " * @param {string} inputId Element ID of the input file picker element.\n",
              " * @param {string} outputId Element ID of the output display.\n",
              " * @return {!Iterable<!Object>} Iterable of next steps.\n",
              " */\n",
              "function* uploadFilesStep(inputId, outputId) {\n",
              "  const inputElement = document.getElementById(inputId);\n",
              "  inputElement.disabled = false;\n",
              "\n",
              "  const outputElement = document.getElementById(outputId);\n",
              "  outputElement.innerHTML = '';\n",
              "\n",
              "  const pickedPromise = new Promise((resolve) => {\n",
              "    inputElement.addEventListener('change', (e) => {\n",
              "      resolve(e.target.files);\n",
              "    });\n",
              "  });\n",
              "\n",
              "  const cancel = document.createElement('button');\n",
              "  inputElement.parentElement.appendChild(cancel);\n",
              "  cancel.textContent = 'Cancel upload';\n",
              "  const cancelPromise = new Promise((resolve) => {\n",
              "    cancel.onclick = () => {\n",
              "      resolve(null);\n",
              "    };\n",
              "  });\n",
              "\n",
              "  // Wait for the user to pick the files.\n",
              "  const files = yield {\n",
              "    promise: Promise.race([pickedPromise, cancelPromise]),\n",
              "    response: {\n",
              "      action: 'starting',\n",
              "    }\n",
              "  };\n",
              "\n",
              "  cancel.remove();\n",
              "\n",
              "  // Disable the input element since further picks are not allowed.\n",
              "  inputElement.disabled = true;\n",
              "\n",
              "  if (!files) {\n",
              "    return {\n",
              "      response: {\n",
              "        action: 'complete',\n",
              "      }\n",
              "    };\n",
              "  }\n",
              "\n",
              "  for (const file of files) {\n",
              "    const li = document.createElement('li');\n",
              "    li.append(span(file.name, {fontWeight: 'bold'}));\n",
              "    li.append(span(\n",
              "        `(${file.type || 'n/a'}) - ${file.size} bytes, ` +\n",
              "        `last modified: ${\n",
              "            file.lastModifiedDate ? file.lastModifiedDate.toLocaleDateString() :\n",
              "                                    'n/a'} - `));\n",
              "    const percent = span('0% done');\n",
              "    li.appendChild(percent);\n",
              "\n",
              "    outputElement.appendChild(li);\n",
              "\n",
              "    const fileDataPromise = new Promise((resolve) => {\n",
              "      const reader = new FileReader();\n",
              "      reader.onload = (e) => {\n",
              "        resolve(e.target.result);\n",
              "      };\n",
              "      reader.readAsArrayBuffer(file);\n",
              "    });\n",
              "    // Wait for the data to be ready.\n",
              "    let fileData = yield {\n",
              "      promise: fileDataPromise,\n",
              "      response: {\n",
              "        action: 'continue',\n",
              "      }\n",
              "    };\n",
              "\n",
              "    // Use a chunked sending to avoid message size limits. See b/62115660.\n",
              "    let position = 0;\n",
              "    do {\n",
              "      const length = Math.min(fileData.byteLength - position, MAX_PAYLOAD_SIZE);\n",
              "      const chunk = new Uint8Array(fileData, position, length);\n",
              "      position += length;\n",
              "\n",
              "      const base64 = btoa(String.fromCharCode.apply(null, chunk));\n",
              "      yield {\n",
              "        response: {\n",
              "          action: 'append',\n",
              "          file: file.name,\n",
              "          data: base64,\n",
              "        },\n",
              "      };\n",
              "\n",
              "      let percentDone = fileData.byteLength === 0 ?\n",
              "          100 :\n",
              "          Math.round((position / fileData.byteLength) * 100);\n",
              "      percent.textContent = `${percentDone}% done`;\n",
              "\n",
              "    } while (position < fileData.byteLength);\n",
              "  }\n",
              "\n",
              "  // All done.\n",
              "  yield {\n",
              "    response: {\n",
              "      action: 'complete',\n",
              "    }\n",
              "  };\n",
              "}\n",
              "\n",
              "scope.google = scope.google || {};\n",
              "scope.google.colab = scope.google.colab || {};\n",
              "scope.google.colab._files = {\n",
              "  _uploadFiles,\n",
              "  _uploadFilesContinue,\n",
              "};\n",
              "})(self);\n",
              "</script> "
            ]
          },
          "metadata": {}
        },
        {
          "output_type": "stream",
          "name": "stdout",
          "text": [
            "Saving trial.csv to trial.csv\n"
          ]
        }
      ]
    },
    {
      "cell_type": "code",
      "source": [
        "df = pd.read_csv('trial.csv')"
      ],
      "metadata": {
        "id": "Vs-sa1uKGPJU"
      },
      "execution_count": null,
      "outputs": []
    },
    {
      "cell_type": "markdown",
      "source": [
        "# Pra-Pemrosesan Data\n"
      ],
      "metadata": {
        "id": "nKAre6dPV7af"
      }
    },
    {
      "cell_type": "code",
      "source": [
        "df['Money_Value'].fillna(df['Money_Value'].mean(), inplace = True)"
      ],
      "metadata": {
        "id": "DV0bGFnlGRO3"
      },
      "execution_count": null,
      "outputs": []
    },
    {
      "cell_type": "code",
      "source": [
        "df = df[(df.LOCATION_ID != 'LOHARU')]\n",
        "df = df[(df.LOCATION_ID != 'NUH')]\n",
        "df = df[(df.LOCATION_ID != 'SAFIDON')]\n",
        "df = df.astype(float)"
      ],
      "metadata": {
        "id": "jKH4mMVlGbNz"
      },
      "execution_count": null,
      "outputs": []
    },
    {
      "cell_type": "code",
      "source": [
        "df.duplicated()\n",
        "df= df.drop_duplicates()"
      ],
      "metadata": {
        "id": "koH-GvPAGdaS"
      },
      "execution_count": null,
      "outputs": []
    },
    {
      "cell_type": "code",
      "source": [
        "def interquartile(data,x):\n",
        "  q1 = (data[x]).quantile(0.25)\n",
        "  q3 = (data[x]).quantile(0.75) \n",
        "  iqr = q3 - q1\n",
        "  maximum = q3 + (1.5 *iqr)\n",
        "  minimum = q1 - (1.5 *iqr)\n",
        "  return maximum,minimum\n",
        "\n",
        "# menggantikan value outliners dengan hasil dari perhitungan jarak interquartile\n",
        "def sub_outliners(data,x,maximum,minimum):\n",
        "  more_than = (data[x] > maximum)\n",
        "  less_than = (data[x] < minimum)\n",
        "  print('more_than: ',more_than,' | less_than: ',less_than)\n",
        "  data[x] = data[x].mask(more_than, maximum,axis=0)\n",
        "  data[x] = data[x].mask(less_than, minimum,axis=0)\n",
        "  return data\n",
        "\n",
        "maximum,minimum = interquartile(df,'Money_Value')\n",
        "df = sub_outliners(df,'Money_Value',maximum,minimum)\n",
        "\n",
        "maximum,minimum = interquartile(df,'TOTAL')\n",
        "df = sub_outliners(df,'TOTAL',maximum,minimum)\n",
        "\n",
        "maximum,minimum = interquartile(df,'PARA_A')\n",
        "df = sub_outliners(df,'PARA_A',maximum,minimum)\n",
        "\n",
        "maximum,minimum = interquartile(df,'PARA_B')\n",
        "df = sub_outliners(df,'PARA_B',maximum,minimum)\n",
        "\n",
        "f, a = plt.subplots(1, 6)\n",
        "mp.rcParams['figure.dpi'] = 120\n",
        "\n",
        "sns.boxplot(y=df[\"TOTAL\"], ax=a[0])\n",
        "sns.boxplot(y=df[\"Money_Value\"], ax=a[1])\n",
        "sns.boxplot(y=df[\"PARA_B\"], ax=a[2])\n",
        "sns.boxplot(y=df[\"SCORE_B\"], ax=a[3])\n",
        "sns.boxplot(y=df[\"PARA_A\"], ax=a[4])\n",
        "sns.boxplot(y=df[\"SCORE_A\"], ax=a[5])\n",
        "plt.subplots_adjust(wspace=10)\n"
      ],
      "metadata": {
        "id": "hYwX6r78GgcW",
        "colab": {
          "base_uri": "https://localhost:8080/",
          "height": 1000
        },
        "outputId": "96b7dbc6-d027-484d-d1bf-85bd689e256e"
      },
      "execution_count": null,
      "outputs": [
        {
          "output_type": "stream",
          "name": "stdout",
          "text": [
            "more_than:  0      False\n",
            "1      False\n",
            "2      False\n",
            "3      False\n",
            "4      False\n",
            "       ...  \n",
            "770    False\n",
            "772    False\n",
            "773    False\n",
            "774    False\n",
            "775    False\n",
            "Name: Money_Value, Length: 760, dtype: bool  | less_than:  0      False\n",
            "1      False\n",
            "2      False\n",
            "3      False\n",
            "4      False\n",
            "       ...  \n",
            "770    False\n",
            "772    False\n",
            "773    False\n",
            "774    False\n",
            "775    False\n",
            "Name: Money_Value, Length: 760, dtype: bool\n",
            "more_than:  0      False\n",
            "1      False\n",
            "2      False\n",
            "3      False\n",
            "4      False\n",
            "       ...  \n",
            "770    False\n",
            "772    False\n",
            "773    False\n",
            "774    False\n",
            "775    False\n",
            "Name: TOTAL, Length: 760, dtype: bool  | less_than:  0      False\n",
            "1      False\n",
            "2      False\n",
            "3      False\n",
            "4      False\n",
            "       ...  \n",
            "770    False\n",
            "772    False\n",
            "773    False\n",
            "774    False\n",
            "775    False\n",
            "Name: TOTAL, Length: 760, dtype: bool\n",
            "more_than:  0      False\n",
            "1      False\n",
            "2      False\n",
            "3      False\n",
            "4      False\n",
            "       ...  \n",
            "770    False\n",
            "772    False\n",
            "773    False\n",
            "774    False\n",
            "775    False\n",
            "Name: PARA_A, Length: 760, dtype: bool  | less_than:  0      False\n",
            "1      False\n",
            "2      False\n",
            "3      False\n",
            "4      False\n",
            "       ...  \n",
            "770    False\n",
            "772    False\n",
            "773    False\n",
            "774    False\n",
            "775    False\n",
            "Name: PARA_A, Length: 760, dtype: bool\n",
            "more_than:  0      False\n",
            "1      False\n",
            "2      False\n",
            "3      False\n",
            "4      False\n",
            "       ...  \n",
            "770    False\n",
            "772    False\n",
            "773    False\n",
            "774    False\n",
            "775    False\n",
            "Name: PARA_B, Length: 760, dtype: bool  | less_than:  0      False\n",
            "1      False\n",
            "2      False\n",
            "3      False\n",
            "4      False\n",
            "       ...  \n",
            "770    False\n",
            "772    False\n",
            "773    False\n",
            "774    False\n",
            "775    False\n",
            "Name: PARA_B, Length: 760, dtype: bool\n"
          ]
        },
        {
          "output_type": "display_data",
          "data": {
            "text/plain": [
              "<Figure size 432x288 with 6 Axes>"
            ],
            "image/png": "[encoded data removed]"
          },
          "metadata": {
            "needs_background": "light"
          }
        }
      ]
    },
    {
      "cell_type": "code",
      "source": [
        "y = df.Risk\n",
        "data_df = df.drop(['Risk'], axis = 1)"
      ],
      "metadata": {
        "id": "2QFBzu09IQZQ"
      },
      "execution_count": null,
      "outputs": []
    },
    {
      "cell_type": "markdown",
      "source": [
        "#Validasi Data"
      ],
      "metadata": {
        "id": "NtTRkXnOWGul"
      }
    },
    {
      "cell_type": "code",
      "source": [
        "from sklearn.model_selection import train_test_split\n",
        "from sklearn.preprocessing import StandardScaler\n",
        "\n",
        "scaler = StandardScaler()\n",
        "\n",
        "df_train, df_test, y_train, y_test = train_test_split(data_df,y, test_size = 0.2)\n",
        "df_train_scaled = scaler.fit_transform(df_train)\n",
        "df_test_scaled = scaler.transform(df_test)"
      ],
      "metadata": {
        "id": "CsFYdrpVGpH3"
      },
      "execution_count": null,
      "outputs": []
    },
    {
      "cell_type": "markdown",
      "source": [
        "#Reduksi Dimensi\n",
        "\n",
        "\n"
      ],
      "metadata": {
        "id": "B7bvHqEOWCW5"
      }
    },
    {
      "cell_type": "code",
      "source": [
        "from sklearn.decomposition import PCA\n",
        "\n",
        "pca = PCA(n_components=1)\n",
        "\n",
        "df_train_reduced = pca.fit_transform(df_train_scaled)\n",
        "df_test_reduced = pca.transform(df_test_scaled)\n",
        "\n",
        "print(df_test_reduced)"
      ],
      "metadata": {
        "id": "3_hErhzuJJIp",
        "colab": {
          "base_uri": "https://localhost:8080/"
        },
        "outputId": "5a653542-3dfe-4663-a031-e2d64db84640"
      },
      "execution_count": null,
      "outputs": [
        {
          "output_type": "stream",
          "name": "stdout",
          "text": [
            "[[ 1.41922611]\n",
            " [ 2.79611226]\n",
            " [-0.51232941]\n",
            " [-1.86790087]\n",
            " [ 4.70199027]\n",
            " [-1.70472822]\n",
            " [-0.2188212 ]\n",
            " [-1.08114878]\n",
            " [-2.08157924]\n",
            " [-0.936286  ]\n",
            " [-2.19201963]\n",
            " [-1.86351623]\n",
            " [-0.85838401]\n",
            " [ 3.41400072]\n",
            " [ 4.15059903]\n",
            " [ 7.43337875]\n",
            " [ 6.57388714]\n",
            " [ 0.36929677]\n",
            " [-1.73137434]\n",
            " [ 0.05000239]\n",
            " [-1.81876736]\n",
            " [ 3.38314641]\n",
            " [ 0.91247062]\n",
            " [-1.51726486]\n",
            " [-2.27719862]\n",
            " [-1.8409768 ]\n",
            " [-1.97800722]\n",
            " [ 2.33094895]\n",
            " [-1.42339047]\n",
            " [-2.12308941]\n",
            " [-1.91369328]\n",
            " [-2.33446292]\n",
            " [-1.88103182]\n",
            " [-0.87996321]\n",
            " [ 0.94332348]\n",
            " [-2.35189242]\n",
            " [-1.79073254]\n",
            " [-2.14102241]\n",
            " [-2.02003578]\n",
            " [ 5.98545677]\n",
            " [-0.59579355]\n",
            " [-2.30095928]\n",
            " [-1.3540638 ]\n",
            " [-1.47584112]\n",
            " [ 5.41437011]\n",
            " [ 1.03105817]\n",
            " [ 8.0504117 ]\n",
            " [ 1.66253032]\n",
            " [-1.74385362]\n",
            " [-2.27478332]\n",
            " [-1.87065621]\n",
            " [ 2.12783698]\n",
            " [-2.21656119]\n",
            " [ 4.15748353]\n",
            " [ 1.36505297]\n",
            " [-0.59745247]\n",
            " [ 1.1369537 ]\n",
            " [-2.34988587]\n",
            " [-1.74681147]\n",
            " [ 5.58141114]\n",
            " [ 5.4452572 ]\n",
            " [-1.9063025 ]\n",
            " [-2.06181691]\n",
            " [-1.23898048]\n",
            " [ 3.77497536]\n",
            " [-1.63382269]\n",
            " [-2.01335552]\n",
            " [-0.86431461]\n",
            " [ 0.63857577]\n",
            " [ 0.21106938]\n",
            " [ 4.65074274]\n",
            " [-2.29178824]\n",
            " [-1.39268692]\n",
            " [-1.33321329]\n",
            " [-0.2690398 ]\n",
            " [ 4.54280513]\n",
            " [ 0.11479125]\n",
            " [-2.19384216]\n",
            " [-2.03930137]\n",
            " [-2.04166003]\n",
            " [-1.68032908]\n",
            " [ 0.23475517]\n",
            " [-2.20723679]\n",
            " [ 1.15643753]\n",
            " [-2.18208864]\n",
            " [ 4.22343339]\n",
            " [-1.47683997]\n",
            " [ 3.11886887]\n",
            " [ 4.25220513]\n",
            " [-1.91297093]\n",
            " [-0.35373798]\n",
            " [ 4.3844375 ]\n",
            " [-2.29322443]\n",
            " [-1.57306581]\n",
            " [-1.95495562]\n",
            " [ 4.4726977 ]\n",
            " [-0.62803777]\n",
            " [-1.85803828]\n",
            " [-1.94237714]\n",
            " [ 1.0074223 ]\n",
            " [ 3.91524395]\n",
            " [-1.64148917]\n",
            " [ 5.6884017 ]\n",
            " [-1.46429956]\n",
            " [ 0.32058421]\n",
            " [-1.93184425]\n",
            " [ 5.68353849]\n",
            " [ 5.63235855]\n",
            " [-0.61645344]\n",
            " [-2.06284088]\n",
            " [-2.35500993]\n",
            " [-0.15143247]\n",
            " [-0.70681808]\n",
            " [-1.48833505]\n",
            " [-1.54818548]\n",
            " [-1.96889029]\n",
            " [ 2.38862266]\n",
            " [-1.7173113 ]\n",
            " [-1.37401648]\n",
            " [ 3.45692893]\n",
            " [ 8.689021  ]\n",
            " [-1.69159151]\n",
            " [-2.10309414]\n",
            " [-1.23615721]\n",
            " [-2.29637867]\n",
            " [ 5.38962215]\n",
            " [ 1.86618786]\n",
            " [-2.28563599]\n",
            " [-1.98866489]\n",
            " [ 1.88340616]\n",
            " [ 2.98705275]\n",
            " [-2.19868806]\n",
            " [-2.35966856]\n",
            " [ 2.32122575]\n",
            " [ 6.85058495]\n",
            " [-1.71629157]\n",
            " [-0.98360141]\n",
            " [-1.85191861]\n",
            " [-1.92133937]\n",
            " [ 3.58982311]\n",
            " [-1.79055888]\n",
            " [-2.03634737]\n",
            " [ 6.5798353 ]\n",
            " [-2.01330356]\n",
            " [-1.6971955 ]\n",
            " [-0.34980074]\n",
            " [-0.51592992]\n",
            " [-1.89009811]\n",
            " [ 1.66780876]\n",
            " [-2.28923097]\n",
            " [-1.9968098 ]\n",
            " [-1.25601546]]\n"
          ]
        }
      ]
    },
    {
      "cell_type": "markdown",
      "source": [
        "#DATA MODELLING"
      ],
      "metadata": {
        "id": "7o8nY_H0WRWA"
      }
    },
    {
      "cell_type": "code",
      "source": [
        "import tensorflow as tf\n",
        "\n",
        "model = tf.keras.Sequential (\n",
        "    [\n",
        "        tf.keras.layers.Dense(128, activation = 'relu'),\n",
        "        tf.keras.layers.Dense(64),\n",
        "        tf.keras.layers.Dense(32),\n",
        "        tf.keras.layers.Dense(16),    \n",
        "        tf.keras.layers.Dense(4),        \n",
        "        tf.keras.layers.Dense(2),        \n",
        "        tf.keras.layers.Dense(1, activation = 'sigmoid'),\n",
        "    ]\n",
        ")\n",
        "\n",
        "model.compile(loss = 'binary_crossentropy', optimizer = tf.optimizers.Adam(learning_rate=0.05), metrics = ['accuracy', 'Precision', 'Recall'])"
      ],
      "metadata": {
        "id": "cBZN6OdaJTN_"
      },
      "execution_count": null,
      "outputs": []
    },
    {
      "cell_type": "code",
      "source": [
        "target = 0.9\n",
        "class callbacks(tf.keras.callbacks.Callback):\n",
        "    def on_epoch_end(self, epoch, logs = None):\n",
        "        if logs.get('accuracy') >= target:\n",
        "            print('\\nFor Epoch', epoch, '\\nAkurasi telah mencapai = %2.2f%%' %(logs['accuracy']*100), 'proses training selesai.')\n",
        "            self.model.stop_training = True\n",
        "callback = callbacks()"
      ],
      "metadata": {
        "id": "luZSc1MnJZqK"
      },
      "execution_count": null,
      "outputs": []
    },
    {
      "cell_type": "code",
      "source": [
        "history = model.fit(df_train_reduced, y_train, epochs = 1000, callbacks=[callback])"
      ],
      "metadata": {
        "colab": {
          "base_uri": "https://localhost:8080/"
        },
        "id": "btGwxmcqJcg2",
        "outputId": "beec1148-ab40-4142-c5a1-056b770a8134"
      },
      "execution_count": null,
      "outputs": [
        {
          "output_type": "stream",
          "name": "stdout",
          "text": [
            "Epoch 1/1000\n",
            "19/19 [==============================] - 2s 4ms/step - loss: 0.8370 - accuracy: 0.6875 - precision: 0.7162 - recall: 0.8390\n",
            "Epoch 2/1000\n",
            " 1/19 [>.............................] - ETA: 0s - loss: 0.2467 - accuracy: 0.9688 - precision: 1.0000 - recall: 0.9600\n",
            "For Epoch 1 \n",
            "Akurasi telah mencapai = 94.24% proses training selesai.\n",
            "19/19 [==============================] - 0s 3ms/step - loss: 0.1707 - accuracy: 0.9424 - precision: 0.9781 - recall: 0.9299\n"
          ]
        }
      ]
    },
    {
      "cell_type": "markdown",
      "source": [
        "#Data Testing"
      ],
      "metadata": {
        "id": "fbyGX_ymWVv2"
      }
    },
    {
      "cell_type": "code",
      "source": [
        "y_train_pred = model.predict(df_train_reduced)\n",
        "y_test_pred = model.predict(df_test_reduced)"
      ],
      "metadata": {
        "colab": {
          "base_uri": "https://localhost:8080/"
        },
        "id": "t_Xa48ouJwvV",
        "outputId": "095cd273-f106-4c2b-efa4-2b3388b6f0ca"
      },
      "execution_count": null,
      "outputs": [
        {
          "output_type": "stream",
          "name": "stdout",
          "text": [
            "19/19 [==============================] - 0s 2ms/step\n",
            "5/5 [==============================] - 0s 4ms/step\n"
          ]
        }
      ]
    },
    {
      "cell_type": "code",
      "source": [
        "y_train_pred_class = [1 if prob > 0.5 else 0 for prob in np.ravel(y_train_pred)]\n",
        "y_test_pred_class = [1 if prob > 0.5 else 0 for prob in np.ravel(y_test_pred)]"
      ],
      "metadata": {
        "id": "2BmqCAb0J986"
      },
      "execution_count": null,
      "outputs": []
    },
    {
      "cell_type": "markdown",
      "source": [
        "#Confusion Matrix"
      ],
      "metadata": {
        "id": "3Wb0XchqWZHk"
      }
    },
    {
      "cell_type": "code",
      "source": [
        "from sklearn.metrics import confusion_matrix\n",
        "\n",
        "print(confusion_matrix(y_train,y_train_pred_class))\n",
        "print(confusion_matrix(y_test,y_test_pred_class))"
      ],
      "metadata": {
        "colab": {
          "base_uri": "https://localhost:8080/"
        },
        "id": "kuGYvEw-KAid",
        "outputId": "14f12a73-813a-4a6e-8e44-9585806e56cc"
      },
      "execution_count": null,
      "outputs": [
        {
          "output_type": "stream",
          "name": "stdout",
          "text": [
            "[[185  38]\n",
            " [ 12 373]]\n",
            "[[46  6]\n",
            " [ 2 98]]\n"
          ]
        }
      ]
    },
    {
      "cell_type": "code",
      "source": [
        "from sklearn.metrics import accuracy_score, precision_score, recall_score\n",
        "print(f'Accuracy : {accuracy_score(y_test, y_test_pred_class)*100:.2f}%')\n",
        "print(f'Precision : {precision_score(y_test, y_test_pred_class)*100:.2f}%')\n",
        "print(f'Recall : {recall_score(y_test, y_test_pred_class)*100:.2f}%')"
      ],
      "metadata": {
        "colab": {
          "base_uri": "https://localhost:8080/"
        },
        "id": "_Ov8cK3wKCt3",
        "outputId": "d8d4f887-92c6-4313-9797-beea54435fde"
      },
      "execution_count": null,
      "outputs": [
        {
          "output_type": "stream",
          "name": "stdout",
          "text": [
            "Accuracy : 94.74%\n",
            "Precision : 94.23%\n",
            "Recall : 98.00%\n"
          ]
        }
      ]
    }
  ]
}